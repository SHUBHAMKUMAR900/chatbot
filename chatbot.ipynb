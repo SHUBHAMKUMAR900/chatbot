{
 "cells": [
  {
   "cell_type": "code",
   "execution_count": null,
   "id": "90fb1927",
   "metadata": {},
   "outputs": [
    {
     "name": "stdout",
     "output_type": "stream",
     "text": [
      ">hi\n",
      "Hello! Welcome to Airline Chatbot. How may I assist you?\n",
      ">bye\n",
      "Goodbye! Have a great day!\n",
      ">goodbye\n",
      "Goodbye! Have a great day!\n"
     ]
    }
   ],
   "source": [
    "import nltk\n",
    "from nltk.chat.util import Chat, reflections\n",
    "\n",
    "# Define the chatbot's rules and responses\n",
    "rules = [\n",
    "    (r'hi|hello|hey', ['Hello! Welcome to Airline Chatbot. How may I assist you?']),\n",
    "    (r'bye|goodbye', ['Goodbye! Have a great day!']),\n",
    "    (r'(.*) flight status', ['Sure, please provide your flight number and date of travel.']),\n",
    "    (r'flight number (.*) date (.*)', ['The flight %1 on %2 is scheduled to depart on time.']),\n",
    "    (r'(.*) book a flight (.*) from (.*) to (.*)', ['Sure, let me check for available flights from %3 to %4 on %2.']),\n",
    "    (r'(.*) available flights (.*)', ['Here are some available flights: Flight 123: Departure 9:00 AM from %1 to %2, Flight 456: Departure 12:00 PM from %1 to %2.']),\n",
    "    (r'(.*) thank you', ['You\\'re welcome! If you have any more questions, feel free to ask.']),\n",
    "    (r'(.*) complaint (.*)', ['I apologize for the inconvenience. Please provide more details about your complaint so that we can assist you better.']),\n",
    "    (r'(.*) delay', [\"I'm sorry to hear about the delay. Can you please provide your flight number and date of travel?\"]),\n",
    "    (r'(.*) flight number (.*) date (.*)', ['We apologize for the delay. The flight %2 on %3 has been delayed by 1 hour.']),\n",
    "    (r'quit', ['Thank you for chatting with Airline Chatbot. Have a great day!']),\n",
    "]\n",
    "\n",
    "# Create a chatbot using the rules and reflections\n",
    "chatbot = Chat(rules, reflections)\n",
    "\n",
    "# Start the chatbot\n",
    "chatbot.converse()\n"
   ]
  },
  {
   "cell_type": "code",
   "execution_count": 4,
   "id": "95a4baa9",
   "metadata": {},
   "outputs": [],
   "source": [
    "import requests"
   ]
  },
  {
   "cell_type": "code",
   "execution_count": null,
   "id": "2d42e652",
   "metadata": {},
   "outputs": [
    {
     "name": "stdout",
     "output_type": "stream",
     "text": [
      "COVID-19 Chatbot: Hello! I can provide you with COVID-19 statistics for states in India.\n",
      "User: state TN\n",
      "Enter the date (YYYY-MM-DD): 2023-07-01\n",
      "COVID-19 Chatbot: Sorry, I couldn't find COVID-19 data for TN on 2023-07-01.\n",
      "User: TN\n",
      "COVID-19 Chatbot: Sorry, I didn't understand. Please ask for COVID-19 stats for a state.\n",
      "User: 2023-01-22\n",
      "COVID-19 Chatbot: Sorry, I didn't understand. Please ask for COVID-19 stats for a state.\n"
     ]
    }
   ],
   "source": [
    "import requests\n",
    "\n",
    "# Function to retrieve COVID-19 data for a specific date in a state\n",
    "def get_state_data(state, date):\n",
    "    response = requests.get('https://data.covid19india.org/v4/min/timeseries.min.json')\n",
    "    if response.status_code == 200:\n",
    "        data = response.json()\n",
    "        if state in data and date in data[state]['dates']:\n",
    "            state_data = data[state]['dates'][date]\n",
    "            confirmed = state_data['total']['confirmed']\n",
    "            recovered = state_data['total']['recovered']\n",
    "            deceased = state_data['total']['deceased']\n",
    "            tested = state_data['total']['tested']\n",
    "            vaccinated = state_data['total']['vaccinated']\n",
    "            message = f\"COVID-19 stats for {state} on {date}:\\nConfirmed cases: {confirmed}\\nRecovered: {recovered}\\nDeceased: {deceased}\\nTested: {tested}\\nVaccinated: {vaccinated}\"\n",
    "        else:\n",
    "            message = f\"Sorry, I couldn't find COVID-19 data for {state} on {date}.\"\n",
    "    else:\n",
    "        message = \"Sorry, I couldn't retrieve COVID-19 data at the moment. Please try again later.\"\n",
    "    return message\n",
    "\n",
    "# Create a chatbot that handles COVID-19 queries\n",
    "def covid_chatbot():\n",
    "    print(\"COVID-19 Chatbot: Hello! I can provide you with COVID-19 statistics for states in India.\")\n",
    "    while True:\n",
    "        user_input = input(\"User: \")\n",
    "        if user_input.lower() == \"quit\":\n",
    "            print(\"COVID-19 Chatbot: Thank you for using the COVID-19 Chatbot. Stay safe!\")\n",
    "            break\n",
    "        if \"state\" in user_input.lower():\n",
    "            state = user_input.split(\"state\")[1].strip()\n",
    "            date = input(\"Enter the date (YYYY-MM-DD): \")\n",
    "            response = get_state_data(state, date)\n",
    "            print(\"COVID-19 Chatbot:\", response)\n",
    "        else:\n",
    "            print(\"COVID-19 Chatbot: Sorry, I didn't understand. Please ask for COVID-19 stats for a state.\")\n",
    "\n",
    "# Start the COVID-19 chatbot\n",
    "covid_chatbot()\n"
   ]
  },
  {
   "cell_type": "code",
   "execution_count": null,
   "id": "e955c933",
   "metadata": {},
   "outputs": [],
   "source": []
  }
 ],
 "metadata": {
  "kernelspec": {
   "display_name": "Python 3 (ipykernel)",
   "language": "python",
   "name": "python3"
  },
  "language_info": {
   "codemirror_mode": {
    "name": "ipython",
    "version": 3
   },
   "file_extension": ".py",
   "mimetype": "text/x-python",
   "name": "python",
   "nbconvert_exporter": "python",
   "pygments_lexer": "ipython3",
   "version": "3.8.13"
  }
 },
 "nbformat": 4,
 "nbformat_minor": 5
}
