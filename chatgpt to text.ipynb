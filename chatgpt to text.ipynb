import openai
from ibm_watson import TextToSpeechV1
from ibm_cloud_sdk_core.authenticators import IAMAuthenticator
import tempfile
import IPython.display as ipd

# Set up the ChatGPT API
openai.api_key = ''  ### put ur api key from the chatgpt here
completion_model = 'gpt-3.5-turbo'

# Set up the Text-to-Speech service
authenticator = IAMAuthenticator('') ### get the api key from the ibm cloud text to speech service. 
text_to_speech = TextToSpeechV1(authenticator=authenticator)
text_to_speech.set_service_url('')  ### get the url  from the ibm cloud text to speech service.

def generate_content_with_chatgpt(prompt):
    # Generate text with ChatGPT
    response = openai.ChatCompletion.create(
        model=completion_model,
        messages=[
            {"role": "system", "content": "You are a helpful assistant."},
            {"role": "user", "content": prompt}
        ]
    )
    generated_content = response['choices'][0]['message']['content']

    # Convert the content to speech 
    with tempfile.NamedTemporaryFile(suffix=".wav",dir="D:/IBM/text_speech", delete=False) as audio_file:   #### cahnge the file path where you want the audio file to get saved.
        response = text_to_speech.synthesize(generated_content, accept='audio/wav', voice='en-US_AllisonV3Voice').get_result()
        audio_file.write(response.content)

    # Play the generated speech
    ipd.Audio(audio_file.name)

    return generated_content

# Example usage
prompt = "stock analysis"
generated_text = generate_content_with_chatgpt(prompt)
print("Generated Text:", generated_text)
